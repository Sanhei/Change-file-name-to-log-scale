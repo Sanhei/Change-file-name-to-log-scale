{
 "cells": [
  {
   "cell_type": "code",
   "execution_count": 1,
   "id": "dd0a234d",
   "metadata": {},
   "outputs": [],
   "source": [
    "import shutil"
   ]
  },
  {
   "cell_type": "code",
   "execution_count": 13,
   "id": "5556a26a",
   "metadata": {},
   "outputs": [],
   "source": [
    "source = 'copy'"
   ]
  },
  {
   "cell_type": "code",
   "execution_count": 15,
   "id": "1421eb22",
   "metadata": {},
   "outputs": [],
   "source": [
    "for i in range(21):\n",
    "    target = str(10**(-3+4*i/20))\n",
    "    shutil.copytree(source, target)"
   ]
  },
  {
   "cell_type": "code",
   "execution_count": 16,
   "id": "b3207293",
   "metadata": {},
   "outputs": [
    {
     "name": "stdout",
     "output_type": "stream",
     "text": [
      "Text successfully replaced\n"
     ]
    }
   ],
   "source": [
    "# Python program to replace text in a file\n",
    "s = '0.1'\n",
    "f = open(s+\"/timestep_changing/traj.cpp\", \"r+\")\n",
    " \n",
    "# file.txt is an example here,\n",
    "# it should be replaced with the file name\n",
    "# r+ mode opens the file in read and write mode\n",
    "f.truncate(0)\n",
    "f.write(s)\n",
    "f.close()\n",
    "print(\"Text successfully replaced\")"
   ]
  },
  {
   "cell_type": "code",
   "execution_count": 18,
   "id": "92f916fa",
   "metadata": {},
   "outputs": [],
   "source": [
    "import sys\n",
    "import fileinput\n",
    "s = '0.1'\n",
    "# replace all occurrences of 'sit' with 'SIT' and insert a line after the 5th\n",
    "for i, line in enumerate(fileinput.input(s+'/timestep_changing/parameter.h', inplace=1)):\n",
    "    sys.stdout.write(line.replace('const double tau   = 0.001;', 'const double tau   = 0.002;'))  # replace 'sit' and write"
   ]
  },
  {
   "cell_type": "code",
   "execution_count": 21,
   "id": "6dd1cc6d",
   "metadata": {},
   "outputs": [
    {
     "name": "stdout",
     "output_type": "stream",
     "text": [
      "0.001\n",
      "0.001584893192461114\n",
      "0.0025118864315095794\n",
      "0.003981071705534973\n",
      "0.00630957344480193\n",
      "0.01\n",
      "0.015848931924611134\n",
      "0.025118864315095794\n",
      "0.039810717055349734\n",
      "0.06309573444801933\n",
      "0.1\n",
      "0.15848931924611143\n",
      "0.25118864315095796\n",
      "0.3981071705534973\n",
      "0.630957344480193\n",
      "1.0\n",
      "1.584893192461114\n",
      "2.5118864315095797\n",
      "3.981071705534973\n",
      "6.30957344480193\n",
      "10.0\n"
     ]
    }
   ],
   "source": [
    "for i in range(21):\n",
    "    target = str(10**(-3+4*i/20))\n",
    "    s = target\n",
    "    print(s)\n",
    "# replace all occurrences of 'sit' with 'SIT' and insert a line after the 5th\n",
    "    for i, line in enumerate(fileinput.input(s+'/timestep_changing/parameter.h', inplace=1)):\n",
    "        sys.stdout.write(line.replace('const double tau   = 0.001;', 'const double tau   = ' + s + \";\"))  # replace 'sit' and write"
   ]
  },
  {
   "cell_type": "code",
   "execution_count": null,
   "id": "46006644",
   "metadata": {},
   "outputs": [],
   "source": []
  }
 ],
 "metadata": {
  "kernelspec": {
   "display_name": "Python 3 (ipykernel)",
   "language": "python",
   "name": "python3"
  },
  "language_info": {
   "codemirror_mode": {
    "name": "ipython",
    "version": 3
   },
   "file_extension": ".py",
   "mimetype": "text/x-python",
   "name": "python",
   "nbconvert_exporter": "python",
   "pygments_lexer": "ipython3",
   "version": "3.9.7"
  }
 },
 "nbformat": 4,
 "nbformat_minor": 5
}
